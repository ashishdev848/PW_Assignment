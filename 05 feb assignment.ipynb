{
 "cells": [
  {
   "cell_type": "markdown",
   "id": "43563d42-1d53-4de8-9204-ae32d87456ad",
   "metadata": {},
   "source": [
    "Q1. Explain Class and Object with respect to Object-Oriented Programming. Give a suitable example."
   ]
  },
  {
   "cell_type": "markdown",
   "id": "1f5d6564-fa09-4d8e-b54f-df78cc0507a2",
   "metadata": {},
   "source": [
    "Ans1 : A class defines the structure and behaviors of all entities of a given type. An object is one particular \"instance\" of that type of entity. For example, if Dog is a class, then a particular dog named Lassie would be an object of type Dog."
   ]
  },
  {
   "cell_type": "code",
   "execution_count": 10,
   "id": "6da86aec-4967-4c79-a752-ceeeacb309a1",
   "metadata": {},
   "outputs": [],
   "source": [
    "class pwskills :\n",
    "    def welcome_msg(self):\n",
    "        print(\"welcome to pwskills\")"
   ]
  },
  {
   "cell_type": "code",
   "execution_count": 11,
   "id": "f2d6952d-0e4f-4c39-b2b1-4b2d884117ad",
   "metadata": {},
   "outputs": [],
   "source": [
    "rohan=pwskills()"
   ]
  },
  {
   "cell_type": "code",
   "execution_count": 12,
   "id": "dd2f29bc-308b-4cf5-bbb5-c7342a5c372e",
   "metadata": {},
   "outputs": [
    {
     "name": "stdout",
     "output_type": "stream",
     "text": [
      "<class '__main__.pwskills'>\n"
     ]
    }
   ],
   "source": [
    "print(type(rohan))"
   ]
  },
  {
   "cell_type": "code",
   "execution_count": 13,
   "id": "868f7481-96bf-4082-af0a-8602bb8d2ad1",
   "metadata": {},
   "outputs": [
    {
     "name": "stdout",
     "output_type": "stream",
     "text": [
      "welcome to pwskills\n"
     ]
    }
   ],
   "source": [
    "rohan.welcome_msg()"
   ]
  },
  {
   "cell_type": "markdown",
   "id": "463ec2f1-81f9-4459-bee6-a43d9f0780e7",
   "metadata": {},
   "source": [
    "Q2. Name the four pillars of OOPs."
   ]
  },
  {
   "cell_type": "markdown",
   "id": "5395535c-ca72-4feb-a8cf-a370e7c357f7",
   "metadata": {},
   "source": [
    "Ans 2 : There are four pillars on which OOP rests.\n",
    "Abstraction.\n",
    "Encapsulation.\n",
    "Inheritance.\n",
    "Polymorphism."
   ]
  },
  {
   "cell_type": "markdown",
   "id": "86184527-3531-4a30-9259-e2bf97b7fce3",
   "metadata": {},
   "source": [
    "Q3. Explain why the __init__() function is used. Give a suitable example."
   ]
  },
  {
   "cell_type": "markdown",
   "id": "516398df-0c7c-4507-820b-859547971932",
   "metadata": {},
   "source": [
    "Ans 3 : __init__ is a special python method that runs whenever a new object is created. These types of functions are used to initialize the attributes of that class, E.g., if the class is Person, then the attributes will be name, age,"
   ]
  },
  {
   "cell_type": "code",
   "execution_count": 14,
   "id": "a47f53fc-78b8-435f-9866-30b493e73c0e",
   "metadata": {},
   "outputs": [],
   "source": [
    "class pwskills1 :\n",
    "    def __init__(self ,phone_number,email_id,student_id):\n",
    "        self.phone_number=phone_number\n",
    "        self.email_id=email_id\n",
    "        self.student_id=student_id\n",
    "    def return_student_details(self):\n",
    "        return self.student_id,self.phone_number,self.email_id"
   ]
  },
  {
   "cell_type": "code",
   "execution_count": 15,
   "id": "b41539d2-b88c-48cb-bccc-3dfd572efa68",
   "metadata": {},
   "outputs": [],
   "source": [
    "rohan=pwskills1(12144555555548,\"rohan@gmail.com\",101)"
   ]
  },
  {
   "cell_type": "code",
   "execution_count": 16,
   "id": "36e3146d-1b57-4fb3-94a0-4cb73e3b9504",
   "metadata": {},
   "outputs": [
    {
     "data": {
      "text/plain": [
       "(101, 12144555555548, 'rohan@gmail.com')"
      ]
     },
     "execution_count": 16,
     "metadata": {},
     "output_type": "execute_result"
    }
   ],
   "source": [
    "rohan.return_student_details()"
   ]
  },
  {
   "cell_type": "markdown",
   "id": "bb14a4c8-5707-4010-9495-699ea676101a",
   "metadata": {},
   "source": [
    "Q4.Why self is used in OOPs?"
   ]
  },
  {
   "cell_type": "markdown",
   "id": "49414cdc-f72e-4253-89fc-513be5da5d73",
   "metadata": {},
   "source": [
    "Ans4 : The self variable is used to represent the instance of the class which is often used in object-oriented programming. It works as a reference to the object. Python uses the self parameter to refer to instance attributes and methods of the class."
   ]
  },
  {
   "cell_type": "markdown",
   "id": "4843496a-6837-4bd3-9a3a-c654a2ee2da8",
   "metadata": {},
   "source": [
    "Q5. What is inheritance? Give an example for each type of inheritance."
   ]
  },
  {
   "cell_type": "markdown",
   "id": "51fd109d-f6f8-43e1-b3c3-a5c5f549a3eb",
   "metadata": {},
   "source": [
    "Ans 5: Inheritance is a mechanism in which one class acquires the property of another class.\n",
    "\n",
    "Type of inheritance-->:\n",
    "\n",
    "Single Inheritance: \n",
    "Single inheritance enables a derived class to inherit properties from a single parent class, thus enabling code reusability and the addition of new features to existing code.\n",
    "\n",
    "Multiple Inheritance: \n",
    "When a class can be derived from more than one base class this type of inheritance is called multiple inheritances. In multiple inheritances, all the features of the base classes are inherited into the derived clas\n",
    "Multilevel Inheritance :\n",
    "In multilevel inheritance, features of the base class and the derived class are further inherited into the new derived class. This is similar to a relationship representing a child and a grandfather. \n",
    "\n",
    "Hierarchical Inheritance: \n",
    "When more than one derived class are created from a single base this type of inheritance is called hierarchical inheritance. In this program, we have a parent (base) class and two child (derived) classes.\n",
    "\n",
    "Hybrid Inheritance: \n",
    "Inheritance consisting of multiple types of inheritance is called hybrid inheritance.\n",
    "\n"
   ]
  },
  {
   "cell_type": "code",
   "execution_count": null,
   "id": "770050e5-214d-4b83-8090-d5cf01cc4d64",
   "metadata": {},
   "outputs": [],
   "source": []
  },
  {
   "cell_type": "code",
   "execution_count": null,
   "id": "255b733c-a540-402b-b0f9-1fc148684f78",
   "metadata": {},
   "outputs": [],
   "source": []
  }
 ],
 "metadata": {
  "kernelspec": {
   "display_name": "Python 3 (ipykernel)",
   "language": "python",
   "name": "python3"
  },
  "language_info": {
   "codemirror_mode": {
    "name": "ipython",
    "version": 3
   },
   "file_extension": ".py",
   "mimetype": "text/x-python",
   "name": "python",
   "nbconvert_exporter": "python",
   "pygments_lexer": "ipython3",
   "version": "3.10.8"
  }
 },
 "nbformat": 4,
 "nbformat_minor": 5
}
