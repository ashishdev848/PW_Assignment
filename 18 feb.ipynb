{
 "cells": [
  {
   "cell_type": "markdown",
   "id": "8ec9e827",
   "metadata": {},
   "source": [
    "#Q1. What is an API? Give an example, where an API is used in real life.\n",
    "api is the interface that is come b/w two different language softwere.its make a communication medium of two different softwere.\n",
    "in real life we used translator that is used when two another language perople meet and they doesnt know about their language"
   ]
  },
  {
   "cell_type": "markdown",
   "id": "8914fc20",
   "metadata": {},
   "source": [
    "# Q2. Give advantages and disadvantages of using API.\n",
    "adv- \n",
    "1.its make a interface b/w two differnt lanuage\n",
    "2. by the API we conncet local as well as globale also\n",
    "3.by the api we easy tranfer the data and obtain the data.\n",
    "dis adv-\n",
    "1.its make a getway to haker to take the data b/w transfering\n"
   ]
  },
  {
   "cell_type": "markdown",
   "id": "efc1194c",
   "metadata": {},
   "source": [
    "# Q3. What is a Web API? Differentiate between API and Web API.\n",
    "to tranfer the data via web /internet from one softwere to another that is come i web api\n",
    "api different to web api that in api we can connect the data of softwere ocally within system where as in web api we can connectt via internet r web or browser.\n"
   ]
  },
  {
   "cell_type": "markdown",
   "id": "cab81659",
   "metadata": {},
   "source": [
    "# Q4. Explain REST and SOAP Architecture. Mention shortcomings of SOAP.\n",
    "•\tThere are basically two type of architecture of API\n",
    "1.\tRest Architecture – basically its is used to do communications from the software to the web that is used by rest protocol and in these there are (1. Put,2. Get etc.).rest is know as simple and scalability and flexibility. . rest is more light weight compare to soap.\n",
    "2.\tSoap architecture -basically it is used to do communications from the software to web by the xml based massaging system used (code language). Xmlwsdl(http,smpt,tcp/Ip).its is difficult to used as compere to restRestful services\n"
   ]
  },
  {
   "cell_type": "code",
   "execution_count": null,
   "id": "d4a81571",
   "metadata": {},
   "outputs": [],
   "source": [
    "#Differentiate between REST and SOAP.\n",
    "1.\tRest Architecture – basically its is used to do communications from the software to the web that is used by rest protocol and in these there are (1. Put,2. Get etc.).rest is know as simple and scalability and flexibility. . rest is more light weight compare to soap.\n",
    "2.\tSoap architecture -basically it is used to do communications from the software to web by the xml based massaging system used (code language). Xmlwsdl(http,smpt,tcp/Ip).its is difficult to used as compere to restRestful services\n"
   ]
  }
 ],
 "metadata": {
  "kernelspec": {
   "display_name": "Python 3 (ipykernel)",
   "language": "python",
   "name": "python3"
  },
  "language_info": {
   "codemirror_mode": {
    "name": "ipython",
    "version": 3
   },
   "file_extension": ".py",
   "mimetype": "text/x-python",
   "name": "python",
   "nbconvert_exporter": "python",
   "pygments_lexer": "ipython3",
   "version": "3.9.6"
  }
 },
 "nbformat": 4,
 "nbformat_minor": 5
}
