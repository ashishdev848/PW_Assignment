{
 "cells": [
  {
   "cell_type": "markdown",
   "id": "aabcd464-4592-4e3f-a1fa-94bf0599cad4",
   "metadata": {},
   "source": [
    "Q1. Which keyword is used to create a function? Create a function to return a list of odd numbers in the\n",
    "range of 1 to 25.\n",
    "Ans: The def keyword is used to create a function."
   ]
  },
  {
   "cell_type": "code",
   "execution_count": 37,
   "id": "e8cb5bfa-c5d8-4495-95e7-216f5af84d37",
   "metadata": {},
   "outputs": [
    {
     "name": "stdout",
     "output_type": "stream",
     "text": [
      "1 3 5 7 9 11 13 15 17 19 21 23 25 "
     ]
    }
   ],
   "source": [
    "def odd(num1,num2):\n",
    "    if num1>num2:\n",
    "        return\n",
    "    if num1&1:\n",
    "      print(num1,end=\" \")\n",
    "      return odd(num1+2,num2)\n",
    "    else:\n",
    "      return odd(num1+1,num2)\n",
    "num1=1;num2=25\n",
    "odd(num1,num2)"
   ]
  },
  {
   "cell_type": "markdown",
   "id": "71e43773-38dd-499c-886a-6a22d2e11878",
   "metadata": {},
   "source": [
    "Q2. Why *args and **kwargs is used in some functions? Create a function each for *args and **kwargs\n",
    "to demonstrate their use."
   ]
  },
  {
   "cell_type": "markdown",
   "id": "0cea9829-2f02-4f80-90ec-c2fd0951add6",
   "metadata": {},
   "source": [
    "Ans: You can use *args and **kwargs as arguments of a function when you are unsure about the number of arguments to pass in the function"
   ]
  },
  {
   "cell_type": "code",
   "execution_count": 2,
   "id": "02ed8c10-67d6-41dd-884c-355d0ce82ea8",
   "metadata": {},
   "outputs": [
    {
     "name": "stdout",
     "output_type": "stream",
     "text": [
      "First argument : Hello\n",
      "Next argument through *argv : I\n",
      "Next argument through *argv : Am\n",
      "Next argument through *argv : Ashish Maurya\n"
     ]
    }
   ],
   "source": [
    "def myFun(arg1, *argv):\n",
    "\tprint(\"First argument :\", arg1)\n",
    "\tfor arg in argv:\n",
    "\t\tprint(\"Next argument through *argv :\", arg)\n",
    "\n",
    "\n",
    "myFun('Hello', 'I', 'Am', 'Ashish Maurya')\n"
   ]
  },
  {
   "cell_type": "code",
   "execution_count": 7,
   "id": "1f68fd3c-0739-4056-9887-be9068f9b3ed",
   "metadata": {},
   "outputs": [
    {
     "name": "stdout",
     "output_type": "stream",
     "text": [
      "first == I\n",
      "mid == Love \n",
      "last == India\n"
     ]
    }
   ],
   "source": [
    "def myFun(**kwargs):\n",
    "\tfor key, value in kwargs.items():\n",
    "\t\tprint(\"%s == %s\" % (key, value))\n",
    "\n",
    "\n",
    "# Driver code\n",
    "myFun(first='I', mid='Love ', last='India')\n"
   ]
  },
  {
   "cell_type": "markdown",
   "id": "a0a96f20-9fc6-4222-92f4-19f0882e9db3",
   "metadata": {},
   "source": [
    "Q3. What is an iterator in python? Name the method used to initialise the iterator object and the method\n",
    "used for iteration. Use these methods to print the first five elements of the given list [2, 4, 6, 8, 10, 12, 14,\n",
    "16, 18, 20].\n",
    "\n",
    "Ans: Iterators are methods that iterate collections like lists, tuples, etc. Using an iterator method, we can loop through an object and return its elements.\n",
    "\n",
    "Technically, a Python iterator object must implement two special methods, __iter__() and __next__(), collectively called the iterator protocol."
   ]
  },
  {
   "cell_type": "code",
   "execution_count": 10,
   "id": "79f813a4-48e5-4664-900a-6d2862603fea",
   "metadata": {},
   "outputs": [
    {
     "name": "stdout",
     "output_type": "stream",
     "text": [
      "10\n",
      "11\n",
      "12\n",
      "13\n",
      "14\n",
      "15\n",
      "16\n",
      "17\n",
      "18\n",
      "19\n",
      "20\n"
     ]
    }
   ],
   "source": [
    "\n",
    "class Test:\n",
    "\n",
    "\t# Constructor\n",
    "\tdef __init__(self, limit):\n",
    "\t\tself.limit = limit\n",
    "\n",
    "\t# Creates iterator object\n",
    "\t# Called when iteration is initialized\n",
    "\tdef __iter__(self):\n",
    "\t\tself.x = 10\n",
    "\t\treturn self\n",
    "\n",
    "\t# To move to next element. In Python 3,\n",
    "\t# we should replace next with __next__\n",
    "\tdef __next__(self):\n",
    "\n",
    "\t\t# Store current value ofx\n",
    "\t\tx = self.x\n",
    "\n",
    "\t\t# Stop iteration if limit is reached\n",
    "\t\tif x > self.limit:\n",
    "\t\t\traise StopIteration\n",
    "\n",
    "\t\t# Else increment and return old value\n",
    "\t\tself.x = x + 1;\n",
    "\t\treturn x\n",
    "\n",
    "# Prints numbers from 10 to 15\n",
    "for i in Test(20):\n",
    "\tprint(i)\n",
    "\n",
    "# Prints nothing\n",
    "for i in Test(1):\n",
    "\tprint(i)\n"
   ]
  },
  {
   "cell_type": "markdown",
   "id": "ce47e16c-eba3-4e7f-9db3-6c2f700a29e7",
   "metadata": {},
   "source": [
    "Q4. What is a generator function in python? Why yield keyword is used? Give an example of a generator\n",
    "function.\n",
    "\n",
    "Ans:  generator function--->\n",
    "In Python, a generator is a function that returns an iterator that produces a sequence of values when iterated over. \n",
    "\n",
    "yield keyword---->\n",
    "The yield keyword in Python controls the flow of a generator function."
   ]
  },
  {
   "cell_type": "code",
   "execution_count": 12,
   "id": "8b4381d9-43eb-43ab-9180-4b16398d5c9c",
   "metadata": {},
   "outputs": [
    {
     "name": "stdout",
     "output_type": "stream",
     "text": [
      "1\n",
      "2\n",
      "3\n"
     ]
    }
   ],
   "source": [
    "def simpleGeneratorFun():\n",
    "\tyield 1\t\t\n",
    "\tyield 2\t\t\n",
    "\tyield 3\t\t\n",
    "\n",
    "# Driver code to check above generator function\n",
    "for value in simpleGeneratorFun():\n",
    "\tprint(value)\n"
   ]
  },
  {
   "cell_type": "code",
   "execution_count": null,
   "id": "d3d0e071-adf2-49fc-8d6d-1599222d2cf8",
   "metadata": {},
   "outputs": [],
   "source": [
    "Q5. Create a generator function for prime numbers less than 1000. Use the next() method to print the\n",
    "first 20 prime numbers."
   ]
  },
  {
   "cell_type": "markdown",
   "id": "d2ba1291-0544-4bfa-9905-950e78ad36b3",
   "metadata": {},
   "source": [
    "Q6. Write a python program to print the first 10 Fibonacci numbers using a while loop."
   ]
  },
  {
   "cell_type": "code",
   "execution_count": 14,
   "id": "a632c0cb-28ad-4600-a0e9-dbdca4832a6b",
   "metadata": {},
   "outputs": [
    {
     "name": "stdin",
     "output_type": "stream",
     "text": [
      "enter the number 10\n"
     ]
    },
    {
     "name": "stdout",
     "output_type": "stream",
     "text": [
      "0\n",
      "1\n",
      "1\n",
      "2\n",
      "3\n",
      "5\n",
      "8\n",
      "13\n",
      "21\n",
      "34\n"
     ]
    }
   ],
   "source": [
    "number=int(input(\"enter the number\"))\n",
    "a,b=0,1\n",
    "counter=0\n",
    "while counter<number:\n",
    "    print(a)\n",
    "    c=a+b\n",
    "    a=b\n",
    "    b=c\n",
    "    counter=counter+1\n",
    "    "
   ]
  },
  {
   "cell_type": "code",
   "execution_count": null,
   "id": "a64d5c18-3ee3-45af-98de-1921db971b1d",
   "metadata": {},
   "outputs": [],
   "source": [
    "Q7. Write a List Comprehension to iterate through the given string: ‘pwskills’.\n",
    "Expected output: ['p', 'w', 's', 'k', 'i', 'l', 'l', 's']"
   ]
  },
  {
   "cell_type": "code",
   "execution_count": 17,
   "id": "21db53b6-849e-474c-b687-35ff8638e001",
   "metadata": {},
   "outputs": [
    {
     "name": "stdout",
     "output_type": "stream",
     "text": [
      "['p', 'w', 's', 'k', 'i', 'l', 'l', 's']\n"
     ]
    }
   ],
   "source": [
    "a = [ i for i in 'pwskills' ]\n",
    "print(a)"
   ]
  },
  {
   "cell_type": "markdown",
   "id": "1d8204bd-0c23-4ff2-a311-1f5bf82e0496",
   "metadata": {},
   "source": [
    "Q8. Write a python program to check whether a given number is Palindrome or not using a while loop."
   ]
  },
  {
   "cell_type": "code",
   "execution_count": 26,
   "id": "f370aa0e-8039-46ef-a090-e198bfa9b9ff",
   "metadata": {},
   "outputs": [
    {
     "name": "stdin",
     "output_type": "stream",
     "text": [
      "Enter any number: 565\n"
     ]
    },
    {
     "name": "stdout",
     "output_type": "stream",
     "text": [
      "The 565 number is palindrome!\n"
     ]
    }
   ],
   "source": [
    "num=int(input(\"Enter any number:\"))\n",
    "temp=num\n",
    "rev=0\n",
    "while(num>0):\n",
    "    dig=num%10\n",
    "    rev=rev*10+dig\n",
    "    num=num//10\n",
    "if(temp==rev):\n",
    "    print(\"The {0} number is palindrome!\".format(temp))\n",
    "else:\n",
    "    print(\"Not a palindrome!\")"
   ]
  },
  {
   "cell_type": "markdown",
   "id": "0be28158-25de-4666-ab6f-0f6dc97d6fb4",
   "metadata": {},
   "source": [
    "Q9. Write a code to print odd numbers from 1 to 100 using list comprehension.\n",
    "Note: Use a list comprehension to create a list from 1 to 100 and use another List comprehension to filter\n",
    "out odd numbers."
   ]
  },
  {
   "cell_type": "code",
   "execution_count": 28,
   "id": "516a7fb0-0f20-49ff-a38a-6bb7d17efdfc",
   "metadata": {},
   "outputs": [
    {
     "name": "stdout",
     "output_type": "stream",
     "text": [
      "[1, 3, 5, 7, 9, 11, 13, 15, 17, 19, 21, 23, 25, 27, 29, 31, 33, 35, 37, 39, 41, 43, 45, 47, 49, 51, 53, 55, 57, 59, 61, 63, 65, 67, 69, 71, 73, 75, 77, 79, 81, 83, 85, 87, 89, 91, 93, 95, 97, 99]\n"
     ]
    }
   ],
   "source": [
    "odd_list = [element for element in range(1, 100) if element % 2 == 1 ]\n",
    "print(odd_list)"
   ]
  },
  {
   "cell_type": "code",
   "execution_count": null,
   "id": "a214fbb3-d7d8-4960-86e5-5bd15f12bd68",
   "metadata": {},
   "outputs": [],
   "source": []
  }
 ],
 "metadata": {
  "kernelspec": {
   "display_name": "Python 3 (ipykernel)",
   "language": "python",
   "name": "python3"
  },
  "language_info": {
   "codemirror_mode": {
    "name": "ipython",
    "version": 3
   },
   "file_extension": ".py",
   "mimetype": "text/x-python",
   "name": "python",
   "nbconvert_exporter": "python",
   "pygments_lexer": "ipython3",
   "version": "3.10.8"
  }
 },
 "nbformat": 4,
 "nbformat_minor": 5
}
