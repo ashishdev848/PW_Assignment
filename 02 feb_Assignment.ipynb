{
 "cells": [
  {
   "cell_type": "markdown",
   "id": "4905450a-8df5-4ae8-afdb-f2835d416fa2",
   "metadata": {},
   "source": [
    "Q1. Explain with an example each when to use a for loop and a while loop."
   ]
  },
  {
   "cell_type": "markdown",
   "id": "02a68da8-5b00-40db-ad1a-7924a56043a3",
   "metadata": {},
   "source": [
    "FOR LOOPS and WHILE LOOPS. A For loop will run a preset number of times whereas a While loop will run a variable number of times. For loops are used when you know how many times you want to run an algorithm before stopping."
   ]
  },
  {
   "cell_type": "code",
   "execution_count": 1,
   "id": "ef0a2c38-7b74-4625-804f-b3ec56ff12a6",
   "metadata": {},
   "outputs": [
    {
     "name": "stdout",
     "output_type": "stream",
     "text": [
      "Input list elements:\n",
      "1\n",
      "2\n",
      "3\n",
      "4\n",
      "5\n"
     ]
    }
   ],
   "source": [
    "#for loop example\n",
    "# input list\n",
    "List = [1, 2, 3, 4, 5]\n",
    "print(\"Input list elements:\")\n",
    "# traversing through all elements of the list using for loop\n",
    "for i in List:\n",
    "   # printing each element of the list\n",
    "   print(i)"
   ]
  },
  {
   "cell_type": "code",
   "execution_count": 13,
   "id": "a9986199-261d-4a58-a6f4-7194c7f29eb2",
   "metadata": {},
   "outputs": [
    {
     "name": "stdout",
     "output_type": "stream",
     "text": [
      "1\n",
      "2\n",
      "3\n",
      "4\n",
      "5\n",
      "6\n",
      "7\n",
      "8\n",
      "9\n"
     ]
    }
   ],
   "source": [
    "#while loop example\n",
    "i = 1\n",
    "while i < 10:\n",
    "    print(i)\n",
    "    i += 1"
   ]
  },
  {
   "cell_type": "markdown",
   "id": "9fe44d5f-f3a1-421b-8442-6ca080ecec2d",
   "metadata": {},
   "source": [
    "Q2. Write a python program to print the sum and product of the first 10 natural numbers using for\n",
    "and while loop."
   ]
  },
  {
   "cell_type": "code",
   "execution_count": 2,
   "id": "6bc33602-9b16-4150-8276-0e197ad216e6",
   "metadata": {},
   "outputs": [
    {
     "name": "stdout",
     "output_type": "stream",
     "text": [
      "The sum is 55\n"
     ]
    }
   ],
   "source": [
    "# Sum of natural numbers up to num\n",
    "\n",
    "num = 10\n",
    "\n",
    "if num < 0:\n",
    "   print(\"Enter a positive number\")\n",
    "else:\n",
    "   sum = 0\n",
    "   # use while loop to iterate until zero\n",
    "   while(num > 0):\n",
    "       sum += num\n",
    "       num -= 1\n",
    "   print(\"The sum is\", sum)\n"
   ]
  },
  {
   "cell_type": "markdown",
   "id": "27456f90-a04c-4464-88d4-12491019223c",
   "metadata": {},
   "source": [
    "Q3. Create a python program to compute the electricity bill for a household.\n",
    "The per-unit charges in rupees are as follows: For the first 100 units, the user will be charged Rs. 4.5 per\n",
    "unit, for the next 100 units, the user will be charged Rs. 6 per unit, and for the next 100 units, the user will\n",
    "be charged Rs. 10 per unit, After 300 units and above the user will be charged Rs. 20 per unit.\n",
    "You are required to take the units of electricity consumed in a month from the user as input.\n",
    "Your program must pass this test case: when the unit of electricity consumed by the user in a month is\n",
    "310, the total electricity bill should be 2250."
   ]
  },
  {
   "cell_type": "code",
   "execution_count": null,
   "id": "b78c80ef-a6c6-4b4f-bf78-217a7297a69f",
   "metadata": {},
   "outputs": [],
   "source": []
  },
  {
   "cell_type": "markdown",
   "id": "6e4eaa19-2940-41f0-88f7-ff403a27641e",
   "metadata": {},
   "source": [
    "Q4. Create a list of numbers from 1 to 100. Use for loop and while loop to calculate the cube of each\n",
    "number and if the cube of that number is divisible by 4 or 5 then append that number in a list and print\n",
    "that list."
   ]
  },
  {
   "cell_type": "code",
   "execution_count": null,
   "id": "e89a373d-1361-4b96-9f12-e26774f4ac57",
   "metadata": {},
   "outputs": [],
   "source": []
  },
  {
   "cell_type": "markdown",
   "id": "ea1ddf37-99bd-47e2-bcc4-96fab8f28268",
   "metadata": {},
   "source": [
    "Q5. Write a program to filter count vowels in the below-given string.\n",
    "string = \"I want to become a data scientist\""
   ]
  },
  {
   "cell_type": "code",
   "execution_count": 3,
   "id": "0a9cc39d-7995-4c70-becb-ae219e185c79",
   "metadata": {},
   "outputs": [
    {
     "name": "stdout",
     "output_type": "stream",
     "text": [
      "I want to become a data scientist\n",
      "number of vowels in given sentence is: 12\n"
     ]
    }
   ],
   "source": [
    "s1= \"I want to become a data scientist\"\n",
    "s3=s1.lower()\n",
    "print(s1)\n",
    "count=0\n",
    "l5=[\"a\",\"e\",\"i\",\"o\",\"u\"]\n",
    "for s2 in s3:\n",
    "    if s2 in l5:\n",
    "         count=count+1\n",
    "print(\"number of vowels in given sentence is:\",count)"
   ]
  },
  {
   "cell_type": "code",
   "execution_count": 4,
   "id": "66cca418-bfdf-4215-b426-2aebeb4d6741",
   "metadata": {},
   "outputs": [
    {
     "name": "stdout",
     "output_type": "stream",
     "text": [
      "5 7 9 11 13 15 "
     ]
    }
   ],
   "source": []
  },
  {
   "cell_type": "code",
   "execution_count": null,
   "id": "ea545250-6799-4f67-9772-960f9aa8d67d",
   "metadata": {},
   "outputs": [],
   "source": []
  }
 ],
 "metadata": {
  "kernelspec": {
   "display_name": "Python 3 (ipykernel)",
   "language": "python",
   "name": "python3"
  },
  "language_info": {
   "codemirror_mode": {
    "name": "ipython",
    "version": 3
   },
   "file_extension": ".py",
   "mimetype": "text/x-python",
   "name": "python",
   "nbconvert_exporter": "python",
   "pygments_lexer": "ipython3",
   "version": "3.10.8"
  }
 },
 "nbformat": 4,
 "nbformat_minor": 5
}
