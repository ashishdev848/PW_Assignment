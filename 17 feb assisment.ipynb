{
 "cells": [
  {
   "cell_type": "markdown",
   "id": "f076ede4",
   "metadata": {},
   "source": [
    "What is MongoDB? Explain non-relational databases in short. In which scenarios it is preferred to use\n",
    "MongoDB over SQL databases?\n",
    "\n",
    "ans-MongoDB is a document database used to build highly available and scalable internet applications.Non-relational databases are often used when large quantities of complex and diverse data need to be organized. For example, a large store might have a database in which each customer has their own document containing all of their information, from name and address to order history and credit card information. when the data is not in tabluer format then we used the mangoDB over SQL.\n",
    " "
   ]
  },
  {
   "cell_type": "markdown",
   "id": "ab154631",
   "metadata": {},
   "source": [
    "Q2. State and Explain the features of MongoDB.\n",
    "some feature of mangodb are\n",
    "1. we can't define the data type before the write the data.\n",
    "2. we easliy fill the data and do some task on data like find replace etc.\n",
    "3. mangoDB used index approch to better understand on database.\n",
    "4. load balancing of data\n"
   ]
  },
  {
   "cell_type": "markdown",
   "id": "26b7d9dd",
   "metadata": {},
   "source": [
    "# Q3. Write a code to connect MongoDB to Python. Also, create a database and a collection in MongoDB.\n",
    "client = pymongo.MongoClient(\"mongodb+srv://rajaryan:<RAJARYAN10>@cluster0.cukqeiz.mongodb.net/?retryWrites=true&w=majority\")\n",
    "db = client.test\n",
    "    this is the url from the mangodb cloud.\n",
    "    db=client['pwskills']\n",
    "    data={\"name\":\"rajaryan\",\n",
    "      \"class\":\"data science\",\n",
    "      \"time\":\"flexi\"}\n",
    "    coll_pwskills = db[\"my_record\"]\n",
    "    coll_pwskills.insert_one(data)\n"
   ]
  },
  {
   "cell_type": "markdown",
   "id": "3e3bf30a",
   "metadata": {},
   "source": [
    "# Q4. Using the database and the collection created in question number 3, write a code to insert one record,\n",
    "and insert many records. Use the find() and find_one() methods to print the inserted record.\n",
    "\n",
    "client = pymongo.MongoClient(\"mongodb+srv://rajaryan:<RAJARYAN10>@cluster0.cukqeiz.mongodb.net/?retryWrites=true&w=majority\")\n",
    "db = client.test\n",
    "    this is the url from the mangodb cloud.\n",
    "    db=client['pwskills']\n",
    "    data={\"name\":\"rajaryan\",\n",
    "      \"class\":\"data science\",\n",
    "      \"time\":\"flexi\"}\n",
    "    coll_pwskills = db[\"my_record\"]\n",
    "    coll_pwskills.insert_one(data)\n",
    "    coll_pwskill.find({\"name\":\"rajaryan\"})\n",
    "    coll_pwskills.find_one()\n"
   ]
  },
  {
   "cell_type": "markdown",
   "id": "8eddef2b",
   "metadata": {},
   "source": [
    "#Q5. Explain how you can use the find() method to query the MongoDB database. Write a simple code to\n",
    "#demonstrate this.\n",
    "\n",
    "client = pymongo.MongoClient(\"mongodb+srv://rajaryan:<RAJARYAN10>@cluster0.cukqeiz.mongodb.net/?retryWrites=true&w=majority\")\n",
    "db = client.test\n",
    "    #this is the url from the mangodb cloud.\n",
    "db=client['pwskills']\n",
    "data={\"name\":\"rajaryan\",\n",
    "      \"class\":\"data science\",\n",
    "      \"time\":\"flexi\"}\n",
    "coll_pwskills = db[\"my_record\"]\n",
    "coll_pwskills.insert_one(data)\n",
    "coll_pwskill.find({\"name\":\"rajaryan\"})\n"
   ]
  },
  {
   "cell_type": "markdown",
   "id": "2274ecae",
   "metadata": {},
   "source": [
    "Q6. Explain the sort() method. Give an example to demonstrate sorting in MongoDB.\n",
    "\n",
    "by the sort() we can sort the number \n",
    "The sorting order in MongoDB is defined by either a one (1) or a minus (-1). \n",
    "Here the positive one represents the ascending order,while the negative one represents the descending order.\n",
    "db.collection_name.find().sort({field_name: sort order})\n"
   ]
  },
  {
   "cell_type": "code",
   "execution_count": null,
   "id": "b8154bc3",
   "metadata": {},
   "outputs": [],
   "source": [
    "Q7. Explain why delete_one(), delete_many(), and drop() is used.\n",
    "delete_one()-it is used to delete one data of database\n",
    "delete many() - it is used to delete the more that one data of the data base\n",
    "drop() - it is used when we specified the data and by this it drope the data."
   ]
  }
 ],
 "metadata": {
  "kernelspec": {
   "display_name": "Python 3 (ipykernel)",
   "language": "python",
   "name": "python3"
  },
  "language_info": {
   "codemirror_mode": {
    "name": "ipython",
    "version": 3
   },
   "file_extension": ".py",
   "mimetype": "text/x-python",
   "name": "python",
   "nbconvert_exporter": "python",
   "pygments_lexer": "ipython3",
   "version": "3.9.6"
  }
 },
 "nbformat": 4,
 "nbformat_minor": 5
}
